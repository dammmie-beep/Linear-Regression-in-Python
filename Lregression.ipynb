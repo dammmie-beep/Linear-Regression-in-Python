{
  "cells": [
    {
      "cell_type": "markdown",
      "metadata": {
        "id": "view-in-github",
        "colab_type": "text"
      },
      "source": [
        "<a href=\"https://colab.research.google.com/github/dammmie-beep/Linear-Regression-in-Python/blob/main/Lregression.ipynb\" target=\"_parent\"><img src=\"https://colab.research.google.com/assets/colab-badge.svg\" alt=\"Open In Colab\"/></a>"
      ]
    },
    {
      "cell_type": "code",
      "execution_count": 1,
      "id": "4d32cc6d",
      "metadata": {
        "id": "4d32cc6d"
      },
      "outputs": [],
      "source": [
        "import pandas as pd\n",
        "import numpy as np"
      ]
    },
    {
      "cell_type": "code",
      "execution_count": 2,
      "id": "2f15c4c4",
      "metadata": {
        "id": "2f15c4c4"
      },
      "outputs": [],
      "source": [
        "class LinearRegression:\n",
        "    def __init__(self,lr = 0.001,epoch = 100):\n",
        "        self.lr =lr\n",
        "        self.epoch = epoch\n",
        "        self.weights = None\n",
        "        self.bias =None\n",
        "        \n",
        "    def fit(self, X, y):\n",
        "        n_samples,n_features = X.shape\n",
        "        self.weights = np.zeros(n_features)\n",
        "        self.bias = 0\n",
        "        \n",
        "        for i in range(self.epoch):\n",
        "\n",
        "            #predict the result by using the equation for all samples using a dot product\n",
        "            y_pred =  self.bias + np.dot(X,self.weights)\n",
        "\n",
        "            #calculate the error\n",
        "            #use gradient descent to figure out new weight and bias values\n",
        "            dw = (1/n_samples) * np.dot(X.T, (y_pred-y)) #dot product includes the summation of all values \n",
        "            db = (1/n_samples) * np.sum(y_pred-y)\n",
        "\n",
        "            #updating the weighs and bias\n",
        "            self.weights = self.weights - self.lr*dw\n",
        "            self.bias = self.bias - self.lr*db\n",
        "  \n",
        "\n",
        "\n",
        "    def predict(self,X): #(predict)\n",
        "        y_pred =  self.bias + np.dot(X,self.weights)\n",
        "        \n",
        "        return y_pred"
      ]
    }
  ],
  "metadata": {
    "kernelspec": {
      "display_name": "Python 3 (ipykernel)",
      "language": "python",
      "name": "python3"
    },
    "language_info": {
      "codemirror_mode": {
        "name": "ipython",
        "version": 3
      },
      "file_extension": ".py",
      "mimetype": "text/x-python",
      "name": "python",
      "nbconvert_exporter": "python",
      "pygments_lexer": "ipython3",
      "version": "3.9.12"
    },
    "colab": {
      "provenance": [],
      "include_colab_link": true
    }
  },
  "nbformat": 4,
  "nbformat_minor": 5
}
